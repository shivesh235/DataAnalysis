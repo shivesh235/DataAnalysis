{
 "cells": [
  {
   "cell_type": "markdown",
   "metadata": {
    "id": "A8JSAJCWmOcY"
   },
   "source": [
    "## Journal\n",
    "\n"
   ]
  },
  {
   "cell_type": "markdown",
   "metadata": {
    "id": "Ut7la9c7ntIY"
   },
   "source": [
    "- ChatGPT Plugin that automates Data Analysis :\n",
    " [Noteable](https://artificialcorner.com/noteable-the-chatgpt-plugin-that-automates-data-analysis-7f7ccd84f3c8)\n",
    "\n",
    " [ChatGPT + Python+ Power BI](https://medium.com/@araujogabe1/chatgpt-python-power-bi-9771774810e0)\n",
    "\n",
    " [ChtGPT With Jupyter](https://medium.com/@araujogabe1/chatgpt-now-integrates-with-jupyter-notebooks-ebf37a47422b)\n",
    "\n",
    "- Automated EDA with Panda"
   ]
  },
  {
   "cell_type": "markdown",
   "metadata": {
    "id": "OiqIrwurqE9P"
   },
   "source": [
    "## Important Sites\n",
    "* Teachable Machines\n",
    "* ML-Playground\n"
   ]
  },
  {
   "cell_type": "markdown",
   "metadata": {},
   "source": [
    "freepik.com, beautifulboobspics.com, exploitedteens.com, morazzia.com, "
   ]
  },
  {
   "cell_type": "markdown",
   "metadata": {
    "id": "bI8uCttyGpzM"
   },
   "source": [
    "- One hour `exercise` and `meditation`\n",
    "- Daily coding practice"
   ]
  },
  {
   "cell_type": "markdown",
   "metadata": {},
   "source": [
    "### Work Hour Division\n",
    "> #### DSA \n",
    "> #### Data Science\n",
    "> #### Maths"
   ]
  },
  {
   "cell_type": "markdown",
   "metadata": {},
   "source": [
    "### Gantt Chart\n",
    "\n",
    "> ##### Data Structures \n",
    ">> -------------------------------------------------------`20 July`\n",
    ">>\n",
    ">> Gate Notes and Leetcode\n",
    "> ##### Pandas, NumPy, Matplotlib \n",
    ">> ----------------------------------------------------------`21 July`\n",
    ">>\n",
    ">> ZTM\n",
    "> ##### Linear Algebra \n",
    ">> ---------------------------------------------------------------`22 July`\n",
    ">>\n",
    ">> Video and Book"
   ]
  },
  {
   "cell_type": "code",
   "execution_count": null,
   "metadata": {},
   "outputs": [],
   "source": []
  }
 ],
 "metadata": {
  "colab": {
   "authorship_tag": "ABX9TyM3NU9DeGXdnD0WLiZfEuQD",
   "provenance": []
  },
  "kernelspec": {
   "display_name": "Python 3 (ipykernel)",
   "language": "python",
   "name": "python3"
  },
  "language_info": {
   "codemirror_mode": {
    "name": "ipython",
    "version": 3
   },
   "file_extension": ".py",
   "mimetype": "text/x-python",
   "name": "python",
   "nbconvert_exporter": "python",
   "pygments_lexer": "ipython3",
   "version": "3.9.7"
  }
 },
 "nbformat": 4,
 "nbformat_minor": 1
}
